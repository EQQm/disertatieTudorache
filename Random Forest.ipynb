{
 "cells": [
  {
   "cell_type": "code",
   "execution_count": 2,
   "id": "e3b5a65b",
   "metadata": {},
   "outputs": [],
   "source": [
    "import pandas\n",
    "from time import time\n",
    "\n",
    "cols = [\"duration\",\"protocol_type\",\"service\",\"flag\",\"src_bytes\",\n",
    "    \"dst_bytes\",\"land\",\"wrong_fragment\",\"urgent\",\"hot\",\"num_failed_logins\",\n",
    "    \"logged_in\",\"num_compromised\",\"root_shell\",\"su_attempted\",\"num_root\",\n",
    "    \"num_file_creations\",\"num_shells\",\"num_access_files\",\"num_outbound_cmds\",\n",
    "    \"is_host_login\",\"is_guest_login\",\"count\",\"srv_count\",\"serror_rate\",\n",
    "    \"srv_serror_rate\",\"rerror_rate\",\"srv_rerror_rate\",\"same_srv_rate\",\n",
    "    \"diff_srv_rate\",\"srv_diff_host_rate\",\"dst_host_count\",\"dst_host_srv_count\",\n",
    "    \"dst_host_same_srv_rate\",\"dst_host_diff_srv_rate\",\"dst_host_same_src_port_rate\",\n",
    "    \"dst_host_srv_diff_host_rate\",\"dst_host_serror_rate\",\"dst_host_srv_serror_rate\",\n",
    "    \"dst_host_rerror_rate\",\"dst_host_srv_rerror_rate\",\"label\"]\n",
    "\n",
    "kddData = pandas.read_csv(\"kddcupFull.csv\", header=None, names = cols)"
   ]
  },
  {
   "cell_type": "code",
   "execution_count": 3,
   "id": "a4ac732f",
   "metadata": {},
   "outputs": [],
   "source": [
    "featureNames = [\n",
    "    \"duration\",\"src_bytes\",\n",
    "    \"dst_bytes\",\"land\",\"wrong_fragment\",\"urgent\",\"hot\",\"num_failed_logins\",\n",
    "    \"logged_in\",\"num_compromised\",\"root_shell\",\"su_attempted\",\"num_root\",\n",
    "    \"num_file_creations\",\"num_shells\",\"num_access_files\",\"num_outbound_cmds\",\n",
    "    \"is_host_login\",\"is_guest_login\",\"count\",\"srv_count\",\"serror_rate\",\n",
    "    \"srv_serror_rate\",\"rerror_rate\",\"srv_rerror_rate\",\"same_srv_rate\",\n",
    "    \"diff_srv_rate\",\"srv_diff_host_rate\",\"dst_host_count\",\"dst_host_srv_count\",\n",
    "    \"dst_host_same_srv_rate\",\"dst_host_diff_srv_rate\",\"dst_host_same_src_port_rate\",\n",
    "    \"dst_host_srv_diff_host_rate\",\"dst_host_serror_rate\",\"dst_host_srv_serror_rate\",\n",
    "    \"dst_host_rerror_rate\",\"dst_host_srv_rerror_rate\"\n",
    "]\n",
    "\n",
    "features = kddData[featureNames].astype(float)"
   ]
  },
  {
   "cell_type": "code",
   "execution_count": 4,
   "id": "071b18b6",
   "metadata": {},
   "outputs": [
    {
     "data": {
      "text/plain": [
       "normal.    595798\n",
       "attack.    452778\n",
       "Name: label, dtype: int64"
      ]
     },
     "execution_count": 4,
     "metadata": {},
     "output_type": "execute_result"
    }
   ],
   "source": [
    "labels = kddData['label'].copy()\n",
    "labels[labels!='normal.'] = 'attack.'"
   ]
  },
  {
   "cell_type": "code",
   "execution_count": 5,
   "id": "51603bf8",
   "metadata": {},
   "outputs": [
    {
     "name": "stdout",
     "output_type": "stream",
     "text": [
      "Classified in 119.864 seconds\n"
     ]
    }
   ],
   "source": [
    "from sklearn.ensemble import RandomForestClassifier\n",
    "clf = RandomForestClassifier()\n",
    "clf.fit(features,labels)"
   ]
  },
  {
   "cell_type": "code",
   "execution_count": 6,
   "id": "cc86ef3b",
   "metadata": {},
   "outputs": [],
   "source": [
    "kddDataTest = pandas.read_csv(\"corrected.csv\", header=None, names = featureNames)\n",
    "kddDataTest['label'].value_counts()\n",
    "\n",
    "testData = kddDataTest[num_features].astype(float)\n",
    "trueLabels = kddDataTest['label'].copy()\n",
    "true_labels[true_labels!='normal.'] = 'attack.'"
   ]
  },
  {
   "cell_type": "code",
   "execution_count": 7,
   "id": "e50a9e8e",
   "metadata": {},
   "outputs": [
    {
     "name": "stdout",
     "output_type": "stream",
     "text": [
      "Assigned labels in 2.001 seconds\n"
     ]
    }
   ],
   "source": [
    "pred = clf.predict(testData)\n",
    "new_labels = pred"
   ]
  },
  {
   "cell_type": "code",
   "execution_count": 8,
   "id": "e7a28549",
   "metadata": {},
   "outputs": [
    {
     "name": "stdout",
     "output_type": "stream",
     "text": [
      "\n",
      "\n",
      "Accuracy 92.371 %\n",
      "\n",
      "\n",
      "Confusion Matrix: \n",
      "\n",
      " [[226966  23470]\n",
      " [   258  60335]]\n",
      "\n",
      "\n",
      "Classification Scores: \n",
      "\n",
      "               precision    recall  f1-score   support\n",
      "\n",
      "     attack.       1.00      0.91      0.95    250436\n",
      "     normal.       0.72      1.00      0.84     60593\n",
      "\n",
      "    accuracy                           0.92    311029\n",
      "   macro avg       0.86      0.95      0.89    311029\n",
      "weighted avg       0.94      0.92      0.93    311029\n",
      "\n",
      "\n",
      "\n",
      "Hamming Loss 0.07628870619781435\n",
      "\n",
      "\n",
      "Jaccard Score 0.8688005528011895\n",
      "\n",
      "\n",
      "Matthews corrcoef 0.80522336454727\n",
      "\n",
      "\n",
      "Zero-One Loss 0.07628870619781436\n"
     ]
    }
   ],
   "source": [
    "from sklearn.metrics import accuracy_score, confusion_matrix, classification_report\n",
    "\n",
    "accuracy_score = accuracy_score(true_labels, new_labels)\n",
    "print(\"\\n\\nAccuracy {} %\".format(round(accuracy_score*100,3)))\n",
    "\n",
    "confusion_matrix = confusion_matrix(true_labels, new_labels)\n",
    "print(\"\\n\\nConfusion Matrix: \\n\\n {}\".format(confusion_matrix))\n",
    "\n",
    "classification_report = classification_report(true_labels, new_labels)\n",
    "print(\"\\n\\nClassification Scores: \\n\\n {}\".format(classification_report))\n",
    "\n",
    "import seaborn as sns\n",
    "import numpy as np\n",
    "sns.heatmap(confusion_matrix/np.sum(confusion_matrix), annot=True, \n",
    "            fmt='.2%', cmap='Blues')"
   ]
  }
 ],
 "metadata": {
  "kernelspec": {
   "display_name": "Python 3",
   "language": "python",
   "name": "python3"
  },
  "language_info": {
   "codemirror_mode": {
    "name": "ipython",
    "version": 3
   },
   "file_extension": ".py",
   "mimetype": "text/x-python",
   "name": "python",
   "nbconvert_exporter": "python",
   "pygments_lexer": "ipython3",
   "version": "3.8.8"
  }
 },
 "nbformat": 4,
 "nbformat_minor": 5
}
