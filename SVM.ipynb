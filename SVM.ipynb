{
 "cells": [
  {
   "cell_type": "code",
   "execution_count": 2,
   "id": "80543605",
   "metadata": {},
   "outputs": [],
   "source": [
    "import pandas\n",
    "from time import time\n",
    "\n",
    "cols = [\"duration\",\"protocol_type\",\"service\",\"flag\",\"src_bytes\",\n",
    "    \"dst_bytes\",\"land\",\"wrong_fragment\",\"urgent\",\"hot\",\"num_failed_logins\",\n",
    "    \"logged_in\",\"num_compromised\",\"root_shell\",\"su_attempted\",\"num_root\",\n",
    "    \"num_file_creations\",\"num_shells\",\"num_access_files\",\"num_outbound_cmds\",\n",
    "    \"is_host_login\",\"is_guest_login\",\"count\",\"srv_count\",\"serror_rate\",\n",
    "    \"srv_serror_rate\",\"rerror_rate\",\"srv_rerror_rate\",\"same_srv_rate\",\n",
    "    \"diff_srv_rate\",\"srv_diff_host_rate\",\"dst_host_count\",\"dst_host_srv_count\",\n",
    "    \"dst_host_same_srv_rate\",\"dst_host_diff_srv_rate\",\"dst_host_same_src_port_rate\",\n",
    "    \"dst_host_srv_diff_host_rate\",\"dst_host_serror_rate\",\"dst_host_srv_serror_rate\",\n",
    "    \"dst_host_rerror_rate\",\"dst_host_srv_rerror_rate\",\"label\"]\n",
    "\n",
    "kddData = pandas.read_csv(\"kddcupFull.csv\", header=None, names = cols)"
   ]
  },
  {
   "cell_type": "code",
   "execution_count": 3,
   "id": "fdcb5812",
   "metadata": {},
   "outputs": [],
   "source": [
    "featureNames = [\n",
    "    \"duration\",\"src_bytes\",\n",
    "    \"dst_bytes\",\"land\",\"wrong_fragment\",\"urgent\",\"hot\",\"num_failed_logins\",\n",
    "    \"logged_in\",\"num_compromised\",\"root_shell\",\"su_attempted\",\"num_root\",\n",
    "    \"num_file_creations\",\"num_shells\",\"num_access_files\",\"num_outbound_cmds\",\n",
    "    \"is_host_login\",\"is_guest_login\",\"count\",\"srv_count\",\"serror_rate\",\n",
    "    \"srv_serror_rate\",\"rerror_rate\",\"srv_rerror_rate\",\"same_srv_rate\",\n",
    "    \"diff_srv_rate\",\"srv_diff_host_rate\",\"dst_host_count\",\"dst_host_srv_count\",\n",
    "    \"dst_host_same_srv_rate\",\"dst_host_diff_srv_rate\",\"dst_host_same_src_port_rate\",\n",
    "    \"dst_host_srv_diff_host_rate\",\"dst_host_serror_rate\",\"dst_host_srv_serror_rate\",\n",
    "    \"dst_host_rerror_rate\",\"dst_host_srv_rerror_rate\"\n",
    "]\n",
    "\n",
    "features = kddData[featureNames].astype(float)"
   ]
  },
  {
   "cell_type": "code",
   "execution_count": 4,
   "id": "b2fa4a75",
   "metadata": {},
   "outputs": [
    {
     "data": {
      "text/plain": [
       "attack.    396743\n",
       "normal.     97278\n",
       "Name: label, dtype: int64"
      ]
     },
     "execution_count": 4,
     "metadata": {},
     "output_type": "execute_result"
    }
   ],
   "source": [
    "labels = kddData['label'].copy()\n",
    "labels[labels!='normal.'] = 'attack.'"
   ]
  },
  {
   "cell_type": "code",
   "execution_count": null,
   "id": "e6af4b77",
   "metadata": {},
   "outputs": [],
   "source": [
    "from sklearn.svm import SVC\n",
    "clf = SVC(kernel = 'linear', random_state = 0)\n",
    "clf.fit(features,labels)"
   ]
  },
  {
   "cell_type": "code",
   "execution_count": null,
   "id": "3f49a2da",
   "metadata": {},
   "outputs": [],
   "source": [
    "kddDataTest = pandas.read_csv(\"corrected.csv\", header=None, names = featureNames)\n",
    "kddDataTest['label'].value_counts()\n",
    "\n",
    "testData = kddDataTest[num_features].astype(float)\n",
    "trueLabels = kddDataTest['label'].copy()\n",
    "true_labels[true_labels!='normal.'] = 'attack.'"
   ]
  },
  {
   "cell_type": "code",
   "execution_count": null,
   "id": "b339f321",
   "metadata": {},
   "outputs": [],
   "source": [
    "pred = clf.predict(testData)\n",
    "new_labels = pred"
   ]
  },
  {
   "cell_type": "code",
   "execution_count": null,
   "id": "6c0c7ce0",
   "metadata": {},
   "outputs": [],
   "source": [
    "from sklearn.metrics import accuracy_score, confusion_matrix, classification_report\n",
    "\n",
    "accuracy_score = accuracy_score(true_labels, new_labels)\n",
    "print(\"\\n\\nAccuracy {} %\".format(round(accuracy_score*100,3)))\n",
    "\n",
    "confusion_matrix = confusion_matrix(true_labels, new_labels)\n",
    "print(\"\\n\\nConfusion Matrix: \\n\\n {}\".format(confusion_matrix))\n",
    "\n",
    "classification_report = classification_report(true_labels, new_labels)\n",
    "print(\"\\n\\nClassification Scores: \\n\\n {}\".format(classification_report))\n",
    "\n",
    "import seaborn as sns\n",
    "import numpy as np\n",
    "sns.heatmap(confusion_matrix/np.sum(confusion_matrix), annot=True, \n",
    "            fmt='.2%', cmap='Blues')"
   ]
  }
 ],
 "metadata": {
  "kernelspec": {
   "display_name": "Python 3",
   "language": "python",
   "name": "python3"
  },
  "language_info": {
   "codemirror_mode": {
    "name": "ipython",
    "version": 3
   },
   "file_extension": ".py",
   "mimetype": "text/x-python",
   "name": "python",
   "nbconvert_exporter": "python",
   "pygments_lexer": "ipython3",
   "version": "3.8.8"
  }
 },
 "nbformat": 4,
 "nbformat_minor": 5
}
