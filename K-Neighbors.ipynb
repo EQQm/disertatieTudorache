{
 "cells": [
  {
   "cell_type": "code",
   "execution_count": 2,
   "id": "4a866f5e",
   "metadata": {},
   "outputs": [],
   "source": [
    "import pandas\n",
    "from time import time\n",
    "\n",
    "cols = [\"duration\",\"protocol_type\",\"service\",\"flag\",\"src_bytes\",\n",
    "    \"dst_bytes\",\"land\",\"wrong_fragment\",\"urgent\",\"hot\",\"num_failed_logins\",\n",
    "    \"logged_in\",\"num_compromised\",\"root_shell\",\"su_attempted\",\"num_root\",\n",
    "    \"num_file_creations\",\"num_shells\",\"num_access_files\",\"num_outbound_cmds\",\n",
    "    \"is_host_login\",\"is_guest_login\",\"count\",\"srv_count\",\"serror_rate\",\n",
    "    \"srv_serror_rate\",\"rerror_rate\",\"srv_rerror_rate\",\"same_srv_rate\",\n",
    "    \"diff_srv_rate\",\"srv_diff_host_rate\",\"dst_host_count\",\"dst_host_srv_count\",\n",
    "    \"dst_host_same_srv_rate\",\"dst_host_diff_srv_rate\",\"dst_host_same_src_port_rate\",\n",
    "    \"dst_host_srv_diff_host_rate\",\"dst_host_serror_rate\",\"dst_host_srv_serror_rate\",\n",
    "    \"dst_host_rerror_rate\",\"dst_host_srv_rerror_rate\",\"label\"]\n",
    "\n",
    "kddData = pandas.read_csv(\"kddcupFull.csv\", header=None, names = cols)"
   ]
  },
  {
   "cell_type": "code",
   "execution_count": 3,
   "id": "b1490809",
   "metadata": {},
   "outputs": [],
   "source": [
    "featureNames = [\n",
    "    \"duration\",\"src_bytes\",\n",
    "    \"dst_bytes\",\"land\",\"wrong_fragment\",\"urgent\",\"hot\",\"num_failed_logins\",\n",
    "    \"logged_in\",\"num_compromised\",\"root_shell\",\"su_attempted\",\"num_root\",\n",
    "    \"num_file_creations\",\"num_shells\",\"num_access_files\",\"num_outbound_cmds\",\n",
    "    \"is_host_login\",\"is_guest_login\",\"count\",\"srv_count\",\"serror_rate\",\n",
    "    \"srv_serror_rate\",\"rerror_rate\",\"srv_rerror_rate\",\"same_srv_rate\",\n",
    "    \"diff_srv_rate\",\"srv_diff_host_rate\",\"dst_host_count\",\"dst_host_srv_count\",\n",
    "    \"dst_host_same_srv_rate\",\"dst_host_diff_srv_rate\",\"dst_host_same_src_port_rate\",\n",
    "    \"dst_host_srv_diff_host_rate\",\"dst_host_serror_rate\",\"dst_host_srv_serror_rate\",\n",
    "    \"dst_host_rerror_rate\",\"dst_host_srv_rerror_rate\"\n",
    "]\n",
    "\n",
    "features = kddData[featureNames].astype(float)"
   ]
  },
  {
   "cell_type": "code",
   "execution_count": 4,
   "id": "3fba40da",
   "metadata": {},
   "outputs": [
    {
     "data": {
      "text/plain": [
       "normal.    595798\n",
       "attack.    452778\n",
       "Name: label, dtype: int64"
      ]
     },
     "execution_count": 4,
     "metadata": {},
     "output_type": "execute_result"
    }
   ],
   "source": [
    "labels = kddData['label'].copy()\n",
    "labels[labels!='normal.'] = 'attack.'"
   ]
  },
  {
   "cell_type": "code",
   "execution_count": 5,
   "id": "cbf4c3f1",
   "metadata": {},
   "outputs": [
    {
     "name": "stdout",
     "output_type": "stream",
     "text": [
      "Classifier trained in 488.369 seconds\n"
     ]
    }
   ],
   "source": [
    "from sklearn import tree\n",
    "clf = KNeighborsClassifier(n_neighbors = 5, algorithm = 'ball_tree', leaf_size=500)\n",
    "clf.fit(features,labels)"
   ]
  },
  {
   "cell_type": "code",
   "execution_count": 6,
   "id": "7334ac99",
   "metadata": {},
   "outputs": [],
   "source": [
    "kddDataTest = pandas.read_csv(\"corrected.csv\", header=None, names = featureNames)\n",
    "kddDataTest['label'].value_counts()\n",
    "\n",
    "testData = kddDataTest[num_features].astype(float)\n",
    "trueLabels = kddDataTest['label'].copy()\n",
    "true_labels[true_labels!='normal.'] = 'attack.'"
   ]
  },
  {
   "cell_type": "code",
   "execution_count": 7,
   "id": "9a019260",
   "metadata": {},
   "outputs": [
    {
     "name": "stdout",
     "output_type": "stream",
     "text": [
      "Assigned labels in 2447.983 seconds\n"
     ]
    }
   ],
   "source": [
    "pred = clf.predict(testData)\n",
    "new_labels = pred"
   ]
  },
  {
   "cell_type": "code",
   "execution_count": 8,
   "id": "d361c0d9",
   "metadata": {},
   "outputs": [
    {
     "name": "stdout",
     "output_type": "stream",
     "text": [
      "\n",
      "\n",
      "Accuracy 74.591 %\n",
      "\n",
      "\n",
      "Confusion Matrix: \n",
      "\n",
      " [[171821  78615]\n",
      " [   415  60178]]\n",
      "\n",
      "\n",
      "Classification Scores: \n",
      "\n",
      "               precision    recall  f1-score   support\n",
      "\n",
      "     attack.       1.00      0.69      0.81    250436\n",
      "     normal.       0.43      0.99      0.60     60593\n",
      "\n",
      "    accuracy                           0.75    311029\n",
      "   macro avg       0.72      0.84      0.71    311029\n",
      "weighted avg       0.89      0.75      0.77    311029\n",
      "\n",
      "\n",
      "\n",
      "Hamming Loss 0.25409206215497593\n",
      "\n",
      "\n",
      "Matthews corrcoef 0.5411730315636453\n",
      "\n",
      "\n",
      "Zero-One Loss 0.25409206215497593\n"
     ]
    },
    {
     "data": {
      "text/plain": [
       "<AxesSubplot:>"
      ]
     },
     "execution_count": 8,
     "metadata": {},
     "output_type": "execute_result"
    },
    {
     "data": {
      "image/png": "[encoded data removed]",
      "text/plain": [
       "<Figure size 432x288 with 2 Axes>"
      ]
     },
     "metadata": {
      "needs_background": "light"
     },
     "output_type": "display_data"
    }
   ],
   "source": [
    "from sklearn.metrics import accuracy_score, confusion_matrix, classification_report\n",
    "\n",
    "accuracy_score = accuracy_score(true_labels, new_labels)\n",
    "print(\"\\n\\nAccuracy {} %\".format(round(accuracy_score*100,3)))\n",
    "\n",
    "confusion_matrix = confusion_matrix(true_labels, new_labels)\n",
    "print(\"\\n\\nConfusion Matrix: \\n\\n {}\".format(confusion_matrix))\n",
    "\n",
    "classification_report = classification_report(true_labels, new_labels)\n",
    "print(\"\\n\\nClassification Scores: \\n\\n {}\".format(classification_report))\n",
    "\n",
    "import seaborn as sns\n",
    "import numpy as np\n",
    "sns.heatmap(confusion_matrix/np.sum(confusion_matrix), annot=True, \n",
    "            fmt='.2%', cmap='Blues')"
   ]
  }
 ],
 "metadata": {
  "kernelspec": {
   "display_name": "Python 3",
   "language": "python",
   "name": "python3"
  },
  "language_info": {
   "codemirror_mode": {
    "name": "ipython",
    "version": 3
   },
   "file_extension": ".py",
   "mimetype": "text/x-python",
   "name": "python",
   "nbconvert_exporter": "python",
   "pygments_lexer": "ipython3",
   "version": "3.8.8"
  }
 },
 "nbformat": 4,
 "nbformat_minor": 5
}
